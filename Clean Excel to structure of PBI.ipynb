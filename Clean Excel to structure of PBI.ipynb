{
 "cells": [
  {
   "cell_type": "code",
   "execution_count": 1,
   "metadata": {},
   "outputs": [],
   "source": [
    "from lib.transform import MedicalDataProcessor, FeeScheduleProcessor\n",
    "folder_path = r\"C:\\Users\\tomda\\OneDrive\\Desktop\\Python\\ADS\\Source Medical\"\n",
    "mapping_file = r\"C:\\Users\\tomda\\OneDrive\\Desktop\\Python\\ADS\\Mapping.xlsx\"\n",
    "# processor = MedicalDataProcessor(folder_path, mapping_file)\n",
    "# processor.run()\n",
    "processor = FeeScheduleProcessor(r\"C:\\Users\\tomda\\OneDrive\\Desktop\\Python\\ADS\\Fee schedule\")\n",
    "processor.combine_dataframes()\n",
    "processor.save_to_csv('Fee Schedule.csv')"
   ]
  }
 ],
 "metadata": {
  "kernelspec": {
   "display_name": "venv",
   "language": "python",
   "name": "python3"
  },
  "language_info": {
   "codemirror_mode": {
    "name": "ipython",
    "version": 3
   },
   "file_extension": ".py",
   "mimetype": "text/x-python",
   "name": "python",
   "nbconvert_exporter": "python",
   "pygments_lexer": "ipython3",
   "version": "3.10.9"
  }
 },
 "nbformat": 4,
 "nbformat_minor": 2
}
